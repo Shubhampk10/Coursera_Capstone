{
 "cells": [
  {
   "cell_type": "markdown",
   "metadata": {
    "collapsed": true
   },
   "source": [
    "## Introduction:\n",
    "\n",
    "   Traffic accidents are extremely common. In a metropolis city we’ve heard about the accident on daily basis. Because of their frequency, traffic accidents are a major cause of death globally, cutting short millions of lives per year. Therefore, a system that can predict the occurrence of traffic accidents or accident-prone areas can potentially save lives.\n",
    "\n",
    "   Although difficult, traffic accident prediction is not impossible. Accidents don’t arise in a purely stochastic manner; their occurrence is influenced by a multitude of factors such as drivers’ physical conditions, car types, driving speed, traffic condition, road structure and weather. Studying historical accident records would help us understand relationships between these factors and road accidents, which would in turn allow us to build an accident predictor.\n"
   ]
  },
  {
   "cell_type": "markdown",
   "metadata": {},
   "source": [
    "## Data acquisition and cleaning:\n",
    "\n",
    "### Data Sources\n",
    "   We gather data from the local authorities, police station, etc. Also we can collect data from the other various sources like from internet or social media.We can also gather informatom from localities about what they had experience in the past\n",
    "\n",
    "### Data Cleaning\n",
    "   Data collected from the various sources were combined into one table. Then we have to  filter out the data those which have some missing values  or the field may be blank\n",
    "\n",
    "### Feature Selection\n",
    "Upon examining the data we have to clear about the meaning of each feature. If we found any redundancy data or some different data types values then we have to sort all the data if possible else we can delete that row "
   ]
  },
  {
   "cell_type": "markdown",
   "metadata": {},
   "source": [
    "## Methodology Section:\n",
    "\n",
    "To overcome this problem I wanted to create an interactive traffic accident predictor that would be easily accessible by anyone.\n",
    "To achieve this goal I need to deploy a trained predictor on a website. This predictor-website should be capable of doing the following:\n",
    "•\tAllow users to input an origin and find the best driving route that connects the two.\n",
    "•\tAllow user to pick the date/time they plan to make the trip and identify areas along the route that are particularly accident-prone within that time window.\n",
    "•\tKnow about weather condition\n",
    "\n",
    "The steps to achieve this objective are:\n",
    "Data collection\n",
    "Data Processing\n",
    "\n",
    "Supervised Learning\n",
    "\t\tModel Training\n",
    "\t\tModel Evaluation\n",
    "Deployment\n"
   ]
  },
  {
   "cell_type": "markdown",
   "metadata": {},
   "source": [
    "## Results Section:\n",
    "In this section we can take the user input and then compare the data between actual data and the predictive data.\n",
    "If the difference between the actual data and the predictive data is small i.e. the error is samll then we can accept this model else we need to agin re-modify the Model. This is the continuous process"
   ]
  },
  {
   "cell_type": "markdown",
   "metadata": {},
   "source": [
    "## Discussion section:\n",
    "Feedback section is one of the important part for building a Model. It can acts act input for future predictive output. By the help of the community or by the local authorities or from other users we need to discuss regarding the model whether this Model is helpful or needs to be adjusted."
   ]
  },
  {
   "cell_type": "markdown",
   "metadata": {},
   "source": [
    "## Conclusion:\n",
    "\n",
    "I built Supervised Learning models to predict the car accidents depends on various clauses.\n",
    "These models can be very useful in helping the users to prevent or to minimize the accidents.\n",
    "For example, It will help users to find the best driving route or allow user to pick the date/time they plan to make the trip and identify areas along the route that are particularly accident-prone within that time window."
   ]
  }
 ],
 "metadata": {
  "kernelspec": {
   "display_name": "Python 3.6",
   "language": "python",
   "name": "python3"
  },
  "language_info": {
   "codemirror_mode": {
    "name": "ipython",
    "version": 3
   },
   "file_extension": ".py",
   "mimetype": "text/x-python",
   "name": "python",
   "nbconvert_exporter": "python",
   "pygments_lexer": "ipython3",
   "version": "3.6.9"
  }
 },
 "nbformat": 4,
 "nbformat_minor": 1
}
