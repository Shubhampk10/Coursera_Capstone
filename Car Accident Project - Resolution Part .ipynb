{
 "cells": [
  {
   "cell_type": "markdown",
   "metadata": {
    "collapsed": true
   },
   "source": [
    "## Car Accident - Resolution section of Week2"
   ]
  },
  {
   "cell_type": "code",
   "execution_count": null,
   "metadata": {},
   "outputs": [],
   "source": [
    "To overcome this problem I wanted to create such an interactive traffic accident predictor that would be easily accessible by anyone.\n",
    "To achieve this goal I need to deploy a trained predictor on a website. This predictor-website should be capable of doing the following:\n",
    "    \n",
    "    •Allow users to input an origin and find the best driving route that connects the two.\n",
    "    •Allow user to pick the date/time they plan to make the trip and identify areas along the route that are particularly accident-prone within that time window.\n",
    "    •Know about weather condition\n",
    "    \n",
    "    \n",
    "The steps to achieve this objective are:\n",
    "    1. Data collection\n",
    "    2. Data Processing\n",
    "    3. Supervised Learning\n",
    "        i) Model Training\n",
    "       ii) Model Evaluation\n",
    "    4. Deployment\n"
   ]
  }
 ],
 "metadata": {
  "kernelspec": {
   "display_name": "Python 3.6",
   "language": "python",
   "name": "python3"
  },
  "language_info": {
   "codemirror_mode": {
    "name": "ipython",
    "version": 3
   },
   "file_extension": ".py",
   "mimetype": "text/x-python",
   "name": "python",
   "nbconvert_exporter": "python",
   "pygments_lexer": "ipython3",
   "version": "3.6.9"
  }
 },
 "nbformat": 4,
 "nbformat_minor": 1
}
